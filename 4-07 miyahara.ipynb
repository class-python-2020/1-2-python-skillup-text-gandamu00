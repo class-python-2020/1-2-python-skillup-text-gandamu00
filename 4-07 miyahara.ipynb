{
 "metadata": {
  "language_info": {
   "codemirror_mode": {
    "name": "ipython",
    "version": 3
   },
   "file_extension": ".py",
   "mimetype": "text/x-python",
   "name": "python",
   "nbconvert_exporter": "python",
   "pygments_lexer": "ipython3",
   "version": "3.8.2-final"
  },
  "orig_nbformat": 2,
  "kernelspec": {
   "name": "python38232bit606b97f773fa4b5eb49d3e1b5a61576f",
   "display_name": "Python 3.8.2 32-bit"
  }
 },
 "nbformat": 4,
 "nbformat_minor": 2,
 "cells": [
  {
   "cell_type": "code",
   "execution_count": 1,
   "metadata": {},
   "outputs": [],
   "source": [
    "def outer(a,b):\n",
    "    print('outer function (a,b) = ({},{})'.format(a,b))\n",
    "    def inner(c,d):\n",
    "        print('inner function (c,d) = ({},{})'.format(c,d))\n",
    "        return c * d\n",
    "    return inner(a,b)"
   ]
  },
  {
   "cell_type": "code",
   "execution_count": 2,
   "metadata": {
    "tags": []
   },
   "outputs": [
    {
     "output_type": "stream",
     "name": "stdout",
     "text": "outer function (a,b) = (4,7)\ninner function (c,d) = (4,7)\n28\n"
    }
   ],
   "source": [
    "a = outer(4,7)\n",
    "print(a)"
   ]
  },
  {
   "cell_type": "code",
   "execution_count": 4,
   "metadata": {},
   "outputs": [
    {
     "output_type": "execute_result",
     "data": {
      "text/plain": "\"we are the knights who say: 'Ni!'\""
     },
     "metadata": {},
     "execution_count": 4
    }
   ],
   "source": [
    "def knights(saying):\n",
    "    def inner(quote):\n",
    "        return \"we are the knights who say: '%s'\" % quote\n",
    "    return inner(saying)\n",
    "\n",
    "knights('Ni!')"
   ]
  },
  {
   "cell_type": "code",
   "execution_count": 5,
   "metadata": {},
   "outputs": [],
   "source": [
    "def make_circle_area_func(pi = 3.14):\n",
    "    '''円の面積を計算する関数を作る'''\n",
    "\n",
    "    def circle_area(radius):\n",
    "        '''円の面積を計算する'''\n",
    "\n",
    "        return radius * radius * pi\n",
    "    \n",
    "    return circle_area\n",
    "circle_area_default = make_circle_area_func()\n",
    "circle_area_precise = make_circle_area_func(pi = 3.1415926535)"
   ]
  },
  {
   "cell_type": "code",
   "execution_count": 6,
   "metadata": {},
   "outputs": [
    {
     "output_type": "execute_result",
     "data": {
      "text/plain": "(function, function)"
     },
     "metadata": {},
     "execution_count": 6
    }
   ],
   "source": [
    "type(circle_area_default),type(circle_area_precise)"
   ]
  },
  {
   "cell_type": "code",
   "execution_count": 7,
   "metadata": {
    "tags": []
   },
   "outputs": [
    {
     "output_type": "stream",
     "name": "stdout",
     "text": "12.56\n12.566370614\n"
    }
   ],
   "source": [
    "print(circle_area_default(2))\n",
    "print(circle_area_precise(2))"
   ]
  },
  {
   "cell_type": "code",
   "execution_count": 8,
   "metadata": {
    "tags": []
   },
   "outputs": [
    {
     "output_type": "stream",
     "name": "stdout",
     "text": "1\n2\n3\n"
    }
   ],
   "source": [
    "def makecounter():\n",
    "    '''呼ばれるたびにカウントを1ずつ増やすカウンタ関数を生成する'''\n",
    "    n = 0\n",
    "    def count():\n",
    "        nonlocal n\n",
    "        n += 1\n",
    "        return n\n",
    "    return count\n",
    "\n",
    "counter = makecounter()\n",
    "print(counter())\n",
    "print(counter())\n",
    "print(counter())\n"
   ]
  },
  {
   "cell_type": "code",
   "execution_count": 10,
   "metadata": {
    "tags": []
   },
   "outputs": [
    {
     "output_type": "stream",
     "name": "stdout",
     "text": "====flag: Red\nSelection is 0 which may be the defult\n====\n====flag: Blue\nYour choise is 1\n====\n"
    }
   ],
   "source": [
    "def show_message(num=0):\n",
    "    \"\"\"入力値に応じて違うメッセージを表示する\n",
    "    入力: 0 or それ以外\n",
    "    \"\"\"\n",
    "\n",
    "    if num == 0:\n",
    "        flag = \"Red\"\n",
    "        print(\"====flag:\",flag)\n",
    "        print(\"Selection is\",num,\"which may be the defult\")\n",
    "        print(\"====\")\n",
    "    else:\n",
    "        flag = \"Blue\"\n",
    "        print(\"====flag:\",flag)\n",
    "        print(\"Your choise is\",num)\n",
    "        print(\"====\")\n",
    "\n",
    "show_message(0)\n",
    "show_message(1)\n",
    "\n"
   ]
  },
  {
   "cell_type": "code",
   "execution_count": 11,
   "metadata": {},
   "outputs": [],
   "source": [
    "def make_addfunc():\n",
    "    def add(x,y):\n",
    "        return x + y\n",
    "    return add"
   ]
  },
  {
   "cell_type": "code",
   "execution_count": 12,
   "metadata": {
    "tags": []
   },
   "outputs": [
    {
     "output_type": "stream",
     "name": "stdout",
     "text": "11\n"
    }
   ],
   "source": [
    "adder = make_addfunc()\n",
    "answer = adder(1,10)\n",
    "print(answer)"
   ]
  },
  {
   "cell_type": "code",
   "execution_count": null,
   "metadata": {},
   "outputs": [],
   "source": []
  }
 ]
}